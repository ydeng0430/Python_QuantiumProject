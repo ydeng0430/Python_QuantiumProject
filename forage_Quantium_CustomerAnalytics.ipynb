{
  "nbformat": 4,
  "nbformat_minor": 0,
  "metadata": {
    "colab": {
      "name": "forage_Quantium_CustomerAnalytics.ipynb",
      "provenance": [],
      "collapsed_sections": [
        "3sMDw3M42sFh",
        "-NSrd2hG4zYm",
        "oH2lynj1HA3K",
        "2dZ83UonLSlN"
      ]
    },
    "kernelspec": {
      "name": "python3",
      "display_name": "Python 3"
    },
    "language_info": {
      "name": "python"
    }
  },
  "cells": [
    {
      "cell_type": "markdown",
      "metadata": {
        "id": "rBtYcAuvyw-b"
      },
      "source": [
        "# Quantium Customer Analytics (Forage Virtual Experience Program)"
      ]
    },
    {
      "cell_type": "markdown",
      "metadata": {
        "id": "BVkNTiI1zBBO"
      },
      "source": [
        "## QUESTION AND PROBLEM DEFINITION"
      ]
    },
    {
      "cell_type": "markdown",
      "metadata": {
        "id": "vqfdrxFizLN_"
      },
      "source": [
        "**Question - What types of customers who purchase Chips and their purchasing behaviour within the region?**\n",
        "To answer this question, we need to complete the following tasks:\n",
        "* Examing transaction dataset and customer dataset;\n",
        "* Analyzing the metrics;\n",
        "* Determing which segments we should be targeting."
      ]
    },
    {
      "cell_type": "markdown",
      "metadata": {
        "id": "3sMDw3M42sFh"
      },
      "source": [
        "# LOAD PACKAGES"
      ]
    },
    {
      "cell_type": "code",
      "metadata": {
        "id": "xs1Mij232vCl",
        "colab": {
          "base_uri": "https://localhost:8080/"
        },
        "outputId": "abf2360a-448c-41e9-b7c3-57dab370a726"
      },
      "source": [
        "# data analysis and wrangling\n",
        "import pandas as pd\n",
        "import numpy as np\n",
        "import re\n",
        "import xlrd\n",
        "from scipy import stats\n",
        "\n",
        "# visualization\n",
        "import seaborn as sns\n",
        "import matplotlib.pyplot as plt\n",
        "from statsmodels.graphics.mosaicplot import mosaic\n",
        "%matplotlib inline\n",
        "\n",
        "# Filter all warnings. \n",
        "import warnings\n",
        "warnings.filterwarnings('ignore')"
      ],
      "execution_count": 1,
      "outputs": [
        {
          "output_type": "stream",
          "name": "stderr",
          "text": [
            "/usr/local/lib/python3.7/dist-packages/statsmodels/tools/_testing.py:19: FutureWarning: pandas.util.testing is deprecated. Use the functions in the public API at pandas.testing instead.\n",
            "  import pandas.util.testing as tm\n"
          ]
        }
      ]
    },
    {
      "cell_type": "markdown",
      "metadata": {
        "id": "lVuXYQDp3Fz1"
      },
      "source": [
        "# ACQUIRE DATA"
      ]
    },
    {
      "cell_type": "markdown",
      "metadata": {
        "id": "WwM6ajPO3JXW"
      },
      "source": [
        "We start by acquiring the transaction and customer datasets into Pandas dataframes."
      ]
    },
    {
      "cell_type": "code",
      "metadata": {
        "colab": {
          "resources": {
            "http://localhost:8080/nbextensions/google.colab/files.js": {
              "data": "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",
              "ok": true,
              "headers": [
                [
                  "content-type",
                  "application/javascript"
                ]
              ],
              "status": 200,
              "status_text": ""
            }
          },
          "base_uri": "https://localhost:8080/",
          "height": 108
        },
        "id": "1cQ0LpjB3T7l",
        "outputId": "35e614b3-9977-4862-b00c-50dc6a67644c"
      },
      "source": [
        "# Open the local files\n",
        "from google.colab import files\n",
        "uploaded = files.upload()"
      ],
      "execution_count": 2,
      "outputs": [
        {
          "output_type": "display_data",
          "data": {
            "text/html": [
              "\n",
              "     <input type=\"file\" id=\"files-21a5eecf-74a6-4630-83f6-1a55e00548c9\" name=\"files[]\" multiple disabled\n",
              "        style=\"border:none\" />\n",
              "     <output id=\"result-21a5eecf-74a6-4630-83f6-1a55e00548c9\">\n",
              "      Upload widget is only available when the cell has been executed in the\n",
              "      current browser session. Please rerun this cell to enable.\n",
              "      </output>\n",
              "      <script src=\"/nbextensions/google.colab/files.js\"></script> "
            ],
            "text/plain": [
              "<IPython.core.display.HTML object>"
            ]
          },
          "metadata": {}
        },
        {
          "output_type": "stream",
          "name": "stdout",
          "text": [
            "Saving QVI_purchase_behaviour.csv to QVI_purchase_behaviour.csv\n",
            "Saving QVI_transaction_data.csv to QVI_transaction_data.csv\n"
          ]
        }
      ]
    },
    {
      "cell_type": "code",
      "metadata": {
        "id": "Vb0WktdE4Xdp"
      },
      "source": [
        "# Load local files as pandas dataframe\n",
        "transaction = pd.read_csv(r'QVI_transaction_data.csv')\n",
        "customer =  pd.read_csv(r'QVI_purchase_behaviour.csv')"
      ],
      "execution_count": 3,
      "outputs": []
    },
    {
      "cell_type": "markdown",
      "metadata": {
        "id": "-NSrd2hG4zYm"
      },
      "source": [
        "# ANALYZE BY DESCRIBING DATA"
      ]
    },
    {
      "cell_type": "markdown",
      "metadata": {
        "id": "1BNV3efr43bL"
      },
      "source": [
        "Pandas also helps describe the datasets answering following questions early in the project."
      ]
    },
    {
      "cell_type": "markdown",
      "metadata": {
        "id": "kU9ScWMi4-Rz"
      },
      "source": [
        "**Which features are avaiable in the dataset?**"
      ]
    },
    {
      "cell_type": "markdown",
      "metadata": {
        "id": "-RPMh6Fy5EEW"
      },
      "source": [
        "Noting the feature names for directly manipulating or analyzing these. These feature names are followed:"
      ]
    },
    {
      "cell_type": "code",
      "metadata": {
        "colab": {
          "base_uri": "https://localhost:8080/"
        },
        "id": "iOoGDK_h5Mos",
        "outputId": "b7e3b828-46fe-4a56-f813-c92f33de851e"
      },
      "source": [
        "print('Feature names in transaction dataset are',transaction.columns.values)\n",
        "print('Feature names in customer dataset are',customer.columns.values)"
      ],
      "execution_count": 4,
      "outputs": [
        {
          "output_type": "stream",
          "name": "stdout",
          "text": [
            "Feature names in transaction dataset are ['DATE' 'STORE_NBR' 'LYLTY_CARD_NBR' 'TXN_ID' 'PROD_NBR' 'PROD_NAME'\n",
            " 'PROD_QTY' 'TOT_SALES']\n",
            "Feature names in customer dataset are ['LYLTY_CARD_NBR' 'LIFESTAGE' 'PREMIUM_CUSTOMER']\n"
          ]
        }
      ]
    },
    {
      "cell_type": "markdown",
      "metadata": {
        "id": "ifWIrJhP5War"
      },
      "source": [
        "Let's preview the data."
      ]
    },
    {
      "cell_type": "code",
      "metadata": {
        "colab": {
          "base_uri": "https://localhost:8080/",
          "height": 292
        },
        "id": "BrC2GhFp5Y8h",
        "outputId": "3b466d1b-6e9d-42aa-cf8c-c8e0f11dcdf6"
      },
      "source": [
        "transaction.head()"
      ],
      "execution_count": 5,
      "outputs": [
        {
          "output_type": "execute_result",
          "data": {
            "text/html": [
              "<div>\n",
              "<style scoped>\n",
              "    .dataframe tbody tr th:only-of-type {\n",
              "        vertical-align: middle;\n",
              "    }\n",
              "\n",
              "    .dataframe tbody tr th {\n",
              "        vertical-align: top;\n",
              "    }\n",
              "\n",
              "    .dataframe thead th {\n",
              "        text-align: right;\n",
              "    }\n",
              "</style>\n",
              "<table border=\"1\" class=\"dataframe\">\n",
              "  <thead>\n",
              "    <tr style=\"text-align: right;\">\n",
              "      <th></th>\n",
              "      <th>DATE</th>\n",
              "      <th>STORE_NBR</th>\n",
              "      <th>LYLTY_CARD_NBR</th>\n",
              "      <th>TXN_ID</th>\n",
              "      <th>PROD_NBR</th>\n",
              "      <th>PROD_NAME</th>\n",
              "      <th>PROD_QTY</th>\n",
              "      <th>TOT_SALES</th>\n",
              "    </tr>\n",
              "  </thead>\n",
              "  <tbody>\n",
              "    <tr>\n",
              "      <th>0</th>\n",
              "      <td>43390</td>\n",
              "      <td>1</td>\n",
              "      <td>1000</td>\n",
              "      <td>1</td>\n",
              "      <td>5</td>\n",
              "      <td>Natural Chip        Compny SeaSalt175g</td>\n",
              "      <td>2</td>\n",
              "      <td>6.0</td>\n",
              "    </tr>\n",
              "    <tr>\n",
              "      <th>1</th>\n",
              "      <td>43599</td>\n",
              "      <td>1</td>\n",
              "      <td>1307</td>\n",
              "      <td>348</td>\n",
              "      <td>66</td>\n",
              "      <td>CCs Nacho Cheese    175g</td>\n",
              "      <td>3</td>\n",
              "      <td>6.3</td>\n",
              "    </tr>\n",
              "    <tr>\n",
              "      <th>2</th>\n",
              "      <td>43605</td>\n",
              "      <td>1</td>\n",
              "      <td>1343</td>\n",
              "      <td>383</td>\n",
              "      <td>61</td>\n",
              "      <td>Smiths Crinkle Cut  Chips Chicken 170g</td>\n",
              "      <td>2</td>\n",
              "      <td>2.9</td>\n",
              "    </tr>\n",
              "    <tr>\n",
              "      <th>3</th>\n",
              "      <td>43329</td>\n",
              "      <td>2</td>\n",
              "      <td>2373</td>\n",
              "      <td>974</td>\n",
              "      <td>69</td>\n",
              "      <td>Smiths Chip Thinly  S/Cream&amp;Onion 175g</td>\n",
              "      <td>5</td>\n",
              "      <td>15.0</td>\n",
              "    </tr>\n",
              "    <tr>\n",
              "      <th>4</th>\n",
              "      <td>43330</td>\n",
              "      <td>2</td>\n",
              "      <td>2426</td>\n",
              "      <td>1038</td>\n",
              "      <td>108</td>\n",
              "      <td>Kettle Tortilla ChpsHny&amp;Jlpno Chili 150g</td>\n",
              "      <td>3</td>\n",
              "      <td>13.8</td>\n",
              "    </tr>\n",
              "  </tbody>\n",
              "</table>\n",
              "</div>"
            ],
            "text/plain": [
              "    DATE  STORE_NBR  ...  PROD_QTY  TOT_SALES\n",
              "0  43390          1  ...         2        6.0\n",
              "1  43599          1  ...         3        6.3\n",
              "2  43605          1  ...         2        2.9\n",
              "3  43329          2  ...         5       15.0\n",
              "4  43330          2  ...         3       13.8\n",
              "\n",
              "[5 rows x 8 columns]"
            ]
          },
          "metadata": {},
          "execution_count": 5
        }
      ]
    },
    {
      "cell_type": "code",
      "metadata": {
        "colab": {
          "base_uri": "https://localhost:8080/",
          "height": 205
        },
        "id": "6WqIe1ub5gPS",
        "outputId": "366510a1-0bae-42d4-f68c-81fc92193f1c"
      },
      "source": [
        "customer.head()"
      ],
      "execution_count": 6,
      "outputs": [
        {
          "output_type": "execute_result",
          "data": {
            "text/html": [
              "<div>\n",
              "<style scoped>\n",
              "    .dataframe tbody tr th:only-of-type {\n",
              "        vertical-align: middle;\n",
              "    }\n",
              "\n",
              "    .dataframe tbody tr th {\n",
              "        vertical-align: top;\n",
              "    }\n",
              "\n",
              "    .dataframe thead th {\n",
              "        text-align: right;\n",
              "    }\n",
              "</style>\n",
              "<table border=\"1\" class=\"dataframe\">\n",
              "  <thead>\n",
              "    <tr style=\"text-align: right;\">\n",
              "      <th></th>\n",
              "      <th>LYLTY_CARD_NBR</th>\n",
              "      <th>LIFESTAGE</th>\n",
              "      <th>PREMIUM_CUSTOMER</th>\n",
              "    </tr>\n",
              "  </thead>\n",
              "  <tbody>\n",
              "    <tr>\n",
              "      <th>0</th>\n",
              "      <td>1000</td>\n",
              "      <td>YOUNG SINGLES/COUPLES</td>\n",
              "      <td>Premium</td>\n",
              "    </tr>\n",
              "    <tr>\n",
              "      <th>1</th>\n",
              "      <td>1002</td>\n",
              "      <td>YOUNG SINGLES/COUPLES</td>\n",
              "      <td>Mainstream</td>\n",
              "    </tr>\n",
              "    <tr>\n",
              "      <th>2</th>\n",
              "      <td>1003</td>\n",
              "      <td>YOUNG FAMILIES</td>\n",
              "      <td>Budget</td>\n",
              "    </tr>\n",
              "    <tr>\n",
              "      <th>3</th>\n",
              "      <td>1004</td>\n",
              "      <td>OLDER SINGLES/COUPLES</td>\n",
              "      <td>Mainstream</td>\n",
              "    </tr>\n",
              "    <tr>\n",
              "      <th>4</th>\n",
              "      <td>1005</td>\n",
              "      <td>MIDAGE SINGLES/COUPLES</td>\n",
              "      <td>Mainstream</td>\n",
              "    </tr>\n",
              "  </tbody>\n",
              "</table>\n",
              "</div>"
            ],
            "text/plain": [
              "   LYLTY_CARD_NBR               LIFESTAGE PREMIUM_CUSTOMER\n",
              "0            1000   YOUNG SINGLES/COUPLES          Premium\n",
              "1            1002   YOUNG SINGLES/COUPLES       Mainstream\n",
              "2            1003          YOUNG FAMILIES           Budget\n",
              "3            1004   OLDER SINGLES/COUPLES       Mainstream\n",
              "4            1005  MIDAGE SINGLES/COUPLES       Mainstream"
            ]
          },
          "metadata": {},
          "execution_count": 6
        }
      ]
    },
    {
      "cell_type": "markdown",
      "metadata": {
        "id": "MOZRKY8K5owI"
      },
      "source": [
        "**What are the data types for various features?**\n",
        "\n",
        "Helping us during converting goal.\n",
        "* Integer or float: seven features in transaction dataset and one feature in customer dataset;\n",
        "* String(object): one feature in transaction dataset and two features in customer dataset."
      ]
    },
    {
      "cell_type": "code",
      "metadata": {
        "colab": {
          "base_uri": "https://localhost:8080/"
        },
        "id": "4dNiBfiX5zmn",
        "outputId": "781c5889-bd8a-4df0-a32a-8a398db06857"
      },
      "source": [
        "transaction.info()\n",
        "print('-'*40) # Draw the seperate line\n",
        "customer.info()"
      ],
      "execution_count": 7,
      "outputs": [
        {
          "output_type": "stream",
          "name": "stdout",
          "text": [
            "<class 'pandas.core.frame.DataFrame'>\n",
            "RangeIndex: 264836 entries, 0 to 264835\n",
            "Data columns (total 8 columns):\n",
            " #   Column          Non-Null Count   Dtype  \n",
            "---  ------          --------------   -----  \n",
            " 0   DATE            264836 non-null  int64  \n",
            " 1   STORE_NBR       264836 non-null  int64  \n",
            " 2   LYLTY_CARD_NBR  264836 non-null  int64  \n",
            " 3   TXN_ID          264836 non-null  int64  \n",
            " 4   PROD_NBR        264836 non-null  int64  \n",
            " 5   PROD_NAME       264836 non-null  object \n",
            " 6   PROD_QTY        264836 non-null  int64  \n",
            " 7   TOT_SALES       264836 non-null  float64\n",
            "dtypes: float64(1), int64(6), object(1)\n",
            "memory usage: 16.2+ MB\n",
            "----------------------------------------\n",
            "<class 'pandas.core.frame.DataFrame'>\n",
            "RangeIndex: 72637 entries, 0 to 72636\n",
            "Data columns (total 3 columns):\n",
            " #   Column            Non-Null Count  Dtype \n",
            "---  ------            --------------  ----- \n",
            " 0   LYLTY_CARD_NBR    72637 non-null  int64 \n",
            " 1   LIFESTAGE         72637 non-null  object\n",
            " 2   PREMIUM_CUSTOMER  72637 non-null  object\n",
            "dtypes: int64(1), object(2)\n",
            "memory usage: 1.7+ MB\n"
          ]
        }
      ]
    },
    {
      "cell_type": "markdown",
      "metadata": {
        "id": "tDu240Cj6fb1"
      },
      "source": [
        "**Which features are categorical?**\n",
        "\n",
        "This helps us select the appropriate plot for visualization.\n",
        "* Categorical: STORE_NBR, LYLTY_CARD_NBR, PROD_NBR, LIFESTAGE;\n",
        "* Ordinal: PREMIUM_CUSTOMER (Maybe)."
      ]
    },
    {
      "cell_type": "markdown",
      "metadata": {
        "id": "QoeEha8V6kIs"
      },
      "source": [
        "**Which features are numerical?**\n",
        "\n",
        "This helps us select the appropraite plots for visualization.\n",
        "* Continuous: TOT_SALES;\n",
        "* Discrete:  PROD_QTY."
      ]
    },
    {
      "cell_type": "markdown",
      "metadata": {
        "id": "V_CGtOSz71be"
      },
      "source": [
        "**Which features are mixed data types?**\n",
        "\n",
        "These are candidates for correcting goal.\n",
        "* Alphanumeric: PROD_NAME."
      ]
    },
    {
      "cell_type": "markdown",
      "metadata": {
        "id": "ZJu9oDlx8Ea2"
      },
      "source": [
        "**What are the distributions of numerical features?**\n",
        "\n",
        "This helps us understand the important statistics for each numerical feature."
      ]
    },
    {
      "cell_type": "code",
      "metadata": {
        "colab": {
          "base_uri": "https://localhost:8080/",
          "height": 319
        },
        "id": "rz0GSnwz8uzV",
        "outputId": "4a0dfe33-f64a-47ca-f5b9-9fcc9a24cf75"
      },
      "source": [
        "transaction.describe()"
      ],
      "execution_count": 8,
      "outputs": [
        {
          "output_type": "execute_result",
          "data": {
            "text/html": [
              "<div>\n",
              "<style scoped>\n",
              "    .dataframe tbody tr th:only-of-type {\n",
              "        vertical-align: middle;\n",
              "    }\n",
              "\n",
              "    .dataframe tbody tr th {\n",
              "        vertical-align: top;\n",
              "    }\n",
              "\n",
              "    .dataframe thead th {\n",
              "        text-align: right;\n",
              "    }\n",
              "</style>\n",
              "<table border=\"1\" class=\"dataframe\">\n",
              "  <thead>\n",
              "    <tr style=\"text-align: right;\">\n",
              "      <th></th>\n",
              "      <th>DATE</th>\n",
              "      <th>STORE_NBR</th>\n",
              "      <th>LYLTY_CARD_NBR</th>\n",
              "      <th>TXN_ID</th>\n",
              "      <th>PROD_NBR</th>\n",
              "      <th>PROD_QTY</th>\n",
              "      <th>TOT_SALES</th>\n",
              "    </tr>\n",
              "  </thead>\n",
              "  <tbody>\n",
              "    <tr>\n",
              "      <th>count</th>\n",
              "      <td>264836.000000</td>\n",
              "      <td>264836.00000</td>\n",
              "      <td>2.648360e+05</td>\n",
              "      <td>2.648360e+05</td>\n",
              "      <td>264836.000000</td>\n",
              "      <td>264836.000000</td>\n",
              "      <td>264836.000000</td>\n",
              "    </tr>\n",
              "    <tr>\n",
              "      <th>mean</th>\n",
              "      <td>43464.036260</td>\n",
              "      <td>135.08011</td>\n",
              "      <td>1.355495e+05</td>\n",
              "      <td>1.351583e+05</td>\n",
              "      <td>56.583157</td>\n",
              "      <td>1.907309</td>\n",
              "      <td>7.304200</td>\n",
              "    </tr>\n",
              "    <tr>\n",
              "      <th>std</th>\n",
              "      <td>105.389282</td>\n",
              "      <td>76.78418</td>\n",
              "      <td>8.057998e+04</td>\n",
              "      <td>7.813303e+04</td>\n",
              "      <td>32.826638</td>\n",
              "      <td>0.643654</td>\n",
              "      <td>3.083226</td>\n",
              "    </tr>\n",
              "    <tr>\n",
              "      <th>min</th>\n",
              "      <td>43282.000000</td>\n",
              "      <td>1.00000</td>\n",
              "      <td>1.000000e+03</td>\n",
              "      <td>1.000000e+00</td>\n",
              "      <td>1.000000</td>\n",
              "      <td>1.000000</td>\n",
              "      <td>1.500000</td>\n",
              "    </tr>\n",
              "    <tr>\n",
              "      <th>25%</th>\n",
              "      <td>43373.000000</td>\n",
              "      <td>70.00000</td>\n",
              "      <td>7.002100e+04</td>\n",
              "      <td>6.760150e+04</td>\n",
              "      <td>28.000000</td>\n",
              "      <td>2.000000</td>\n",
              "      <td>5.400000</td>\n",
              "    </tr>\n",
              "    <tr>\n",
              "      <th>50%</th>\n",
              "      <td>43464.000000</td>\n",
              "      <td>130.00000</td>\n",
              "      <td>1.303575e+05</td>\n",
              "      <td>1.351375e+05</td>\n",
              "      <td>56.000000</td>\n",
              "      <td>2.000000</td>\n",
              "      <td>7.400000</td>\n",
              "    </tr>\n",
              "    <tr>\n",
              "      <th>75%</th>\n",
              "      <td>43555.000000</td>\n",
              "      <td>203.00000</td>\n",
              "      <td>2.030942e+05</td>\n",
              "      <td>2.027012e+05</td>\n",
              "      <td>85.000000</td>\n",
              "      <td>2.000000</td>\n",
              "      <td>9.200000</td>\n",
              "    </tr>\n",
              "    <tr>\n",
              "      <th>max</th>\n",
              "      <td>43646.000000</td>\n",
              "      <td>272.00000</td>\n",
              "      <td>2.373711e+06</td>\n",
              "      <td>2.415841e+06</td>\n",
              "      <td>114.000000</td>\n",
              "      <td>200.000000</td>\n",
              "      <td>650.000000</td>\n",
              "    </tr>\n",
              "  </tbody>\n",
              "</table>\n",
              "</div>"
            ],
            "text/plain": [
              "                DATE     STORE_NBR  ...       PROD_QTY      TOT_SALES\n",
              "count  264836.000000  264836.00000  ...  264836.000000  264836.000000\n",
              "mean    43464.036260     135.08011  ...       1.907309       7.304200\n",
              "std       105.389282      76.78418  ...       0.643654       3.083226\n",
              "min     43282.000000       1.00000  ...       1.000000       1.500000\n",
              "25%     43373.000000      70.00000  ...       2.000000       5.400000\n",
              "50%     43464.000000     130.00000  ...       2.000000       7.400000\n",
              "75%     43555.000000     203.00000  ...       2.000000       9.200000\n",
              "max     43646.000000     272.00000  ...     200.000000     650.000000\n",
              "\n",
              "[8 rows x 7 columns]"
            ]
          },
          "metadata": {},
          "execution_count": 8
        }
      ]
    },
    {
      "cell_type": "markdown",
      "metadata": {
        "id": "4ZflKllX8rPA"
      },
      "source": [
        "* PROD_QTY did not vary significantly, but few customers bought large amount (200) of products;"
      ]
    },
    {
      "cell_type": "code",
      "metadata": {
        "colab": {
          "base_uri": "https://localhost:8080/"
        },
        "id": "3SVqRkAm_OCe",
        "outputId": "de404a9d-24aa-4f66-a160-ea07259f1607"
      },
      "source": [
        "transaction['PROD_QTY'].describe(percentiles=[.8,.99])"
      ],
      "execution_count": 9,
      "outputs": [
        {
          "output_type": "execute_result",
          "data": {
            "text/plain": [
              "count    264836.000000\n",
              "mean          1.907309\n",
              "std           0.643654\n",
              "min           1.000000\n",
              "50%           2.000000\n",
              "80%           2.000000\n",
              "99%           2.000000\n",
              "max         200.000000\n",
              "Name: PROD_QTY, dtype: float64"
            ]
          },
          "metadata": {},
          "execution_count": 9
        }
      ]
    },
    {
      "cell_type": "markdown",
      "metadata": {
        "id": "DIawBMk5_wKS"
      },
      "source": [
        "* TOT_SALES are mainly within the range of 1.5 and 13.00, but high value sales do exist in the transaction dataset."
      ]
    },
    {
      "cell_type": "code",
      "metadata": {
        "colab": {
          "base_uri": "https://localhost:8080/"
        },
        "id": "XadWhj3F_7MF",
        "outputId": "c8a1195f-6439-4af9-d0ff-89fb0c53fdaf"
      },
      "source": [
        "transaction['TOT_SALES'].describe(percentiles=[.8,.99])"
      ],
      "execution_count": 10,
      "outputs": [
        {
          "output_type": "execute_result",
          "data": {
            "text/plain": [
              "count    264836.000000\n",
              "mean          7.304200\n",
              "std           3.083226\n",
              "min           1.500000\n",
              "50%           7.400000\n",
              "80%           9.200000\n",
              "99%          13.000000\n",
              "max         650.000000\n",
              "Name: TOT_SALES, dtype: float64"
            ]
          },
          "metadata": {},
          "execution_count": 10
        }
      ]
    },
    {
      "cell_type": "markdown",
      "metadata": {
        "id": "zpMvIuKSAbyS"
      },
      "source": [
        "**What are the distribution of categorical features?**"
      ]
    },
    {
      "cell_type": "markdown",
      "metadata": {
        "id": "hIIEaYgwAjxJ"
      },
      "source": [
        "* There are 114 different products in the transaction dataset and Kettle Mozzarella Basil & Pesto 175g has the highest sales."
      ]
    },
    {
      "cell_type": "code",
      "metadata": {
        "colab": {
          "base_uri": "https://localhost:8080/"
        },
        "id": "bJZEE1EOAnqX",
        "outputId": "a9e83e7e-08fe-413b-94b7-df611dc74d55"
      },
      "source": [
        "transaction.describe(include=['O'])"
      ],
      "execution_count": null,
      "outputs": [
        {
          "output_type": "execute_result",
          "data": {
            "text/html": [
              "<div>\n",
              "<style scoped>\n",
              "    .dataframe tbody tr th:only-of-type {\n",
              "        vertical-align: middle;\n",
              "    }\n",
              "\n",
              "    .dataframe tbody tr th {\n",
              "        vertical-align: top;\n",
              "    }\n",
              "\n",
              "    .dataframe thead th {\n",
              "        text-align: right;\n",
              "    }\n",
              "</style>\n",
              "<table border=\"1\" class=\"dataframe\">\n",
              "  <thead>\n",
              "    <tr style=\"text-align: right;\">\n",
              "      <th></th>\n",
              "      <th>PROD_NAME</th>\n",
              "    </tr>\n",
              "  </thead>\n",
              "  <tbody>\n",
              "    <tr>\n",
              "      <th>count</th>\n",
              "      <td>264836</td>\n",
              "    </tr>\n",
              "    <tr>\n",
              "      <th>unique</th>\n",
              "      <td>114</td>\n",
              "    </tr>\n",
              "    <tr>\n",
              "      <th>top</th>\n",
              "      <td>Kettle Mozzarella   Basil &amp; Pesto 175g</td>\n",
              "    </tr>\n",
              "    <tr>\n",
              "      <th>freq</th>\n",
              "      <td>3304</td>\n",
              "    </tr>\n",
              "  </tbody>\n",
              "</table>\n",
              "</div>"
            ],
            "text/plain": [
              "                                     PROD_NAME\n",
              "count                                   264836\n",
              "unique                                     114\n",
              "top     Kettle Mozzarella   Basil & Pesto 175g\n",
              "freq                                      3304"
            ]
          },
          "metadata": {},
          "execution_count": 11
        }
      ]
    },
    {
      "cell_type": "markdown",
      "metadata": {
        "id": "4j-5IjW-D-bB"
      },
      "source": [
        "* LIFESTAGE has seven unique values and RETIREES are the major type among all types in LIFESTAGE feature;\n",
        "* PREMIUM_CUSTOMER has three unique values and Mainstream are the major type among all types in PREMIUM_CUSTOMER feature."
      ]
    },
    {
      "cell_type": "code",
      "metadata": {
        "colab": {
          "base_uri": "https://localhost:8080/"
        },
        "id": "7eiZ-aGWD_I2",
        "outputId": "298f2504-da59-4d8c-c942-ad2c7e961032"
      },
      "source": [
        "customer.describe(include=['O'])"
      ],
      "execution_count": null,
      "outputs": [
        {
          "output_type": "execute_result",
          "data": {
            "text/html": [
              "<div>\n",
              "<style scoped>\n",
              "    .dataframe tbody tr th:only-of-type {\n",
              "        vertical-align: middle;\n",
              "    }\n",
              "\n",
              "    .dataframe tbody tr th {\n",
              "        vertical-align: top;\n",
              "    }\n",
              "\n",
              "    .dataframe thead th {\n",
              "        text-align: right;\n",
              "    }\n",
              "</style>\n",
              "<table border=\"1\" class=\"dataframe\">\n",
              "  <thead>\n",
              "    <tr style=\"text-align: right;\">\n",
              "      <th></th>\n",
              "      <th>LIFESTAGE</th>\n",
              "      <th>PREMIUM_CUSTOMER</th>\n",
              "    </tr>\n",
              "  </thead>\n",
              "  <tbody>\n",
              "    <tr>\n",
              "      <th>count</th>\n",
              "      <td>72637</td>\n",
              "      <td>72637</td>\n",
              "    </tr>\n",
              "    <tr>\n",
              "      <th>unique</th>\n",
              "      <td>7</td>\n",
              "      <td>3</td>\n",
              "    </tr>\n",
              "    <tr>\n",
              "      <th>top</th>\n",
              "      <td>RETIREES</td>\n",
              "      <td>Mainstream</td>\n",
              "    </tr>\n",
              "    <tr>\n",
              "      <th>freq</th>\n",
              "      <td>14805</td>\n",
              "      <td>29245</td>\n",
              "    </tr>\n",
              "  </tbody>\n",
              "</table>\n",
              "</div>"
            ],
            "text/plain": [
              "       LIFESTAGE PREMIUM_CUSTOMER\n",
              "count      72637            72637\n",
              "unique         7                3\n",
              "top     RETIREES       Mainstream\n",
              "freq       14805            29245"
            ]
          },
          "metadata": {},
          "execution_count": 12
        }
      ]
    },
    {
      "cell_type": "code",
      "metadata": {
        "colab": {
          "base_uri": "https://localhost:8080/"
        },
        "id": "S_I9at9-yoko",
        "outputId": "1073aa39-01f2-481d-8a53-d7de64641445"
      },
      "source": [
        "plt.figure(figsize=(10,3))\n",
        "plt.subplot(1,2,1)\n",
        "sns.countplot(x='LIFESTAGE',data=customer,palette='Blues_d')\n",
        "plt.xticks(rotation=90)\n",
        "plt.subplot(1,2,2)\n",
        "sns.countplot(x='PREMIUM_CUSTOMER',data=customer,palette='Blues_d')\n",
        "plt.xticks(rotation=0)"
      ],
      "execution_count": null,
      "outputs": [
        {
          "output_type": "execute_result",
          "data": {
            "text/plain": [
              "(array([0, 1, 2]), <a list of 3 Text major ticklabel objects>)"
            ]
          },
          "metadata": {},
          "execution_count": 13
        },
        {
          "output_type": "display_data",
          "data": {
            "image/png": "[encoded data removed]",
            "text/plain": [
              "<Figure size 720x216 with 2 Axes>"
            ]
          },
          "metadata": {
            "needs_background": "light"
          }
        }
      ]
    },
    {
      "cell_type": "markdown",
      "metadata": {
        "id": "EEtiYHyJDrZU"
      },
      "source": [
        "STORE_NBR is also a categorical feature, but we will convert it into discrete numbers in the DATA WRANGLE section and then check its distribution.\n",
        "\n"
      ]
    },
    {
      "cell_type": "markdown",
      "metadata": {
        "id": "8zCawywUFNJK"
      },
      "source": [
        "**Which features may contain errors or typos?**\n",
        "\n",
        "PROD_NAME feature may contain errors or typos as there are several ways used to describe a name."
      ]
    },
    {
      "cell_type": "code",
      "metadata": {
        "colab": {
          "base_uri": "https://localhost:8080/"
        },
        "id": "wcHqquqzFunY",
        "outputId": "39fac6c8-8a81-468e-ca97-2fb6fb04ca9f"
      },
      "source": [
        "transaction['PROD_NAME'].head(20)"
      ],
      "execution_count": null,
      "outputs": [
        {
          "output_type": "execute_result",
          "data": {
            "text/plain": [
              "0       Natural Chip        Compny SeaSalt175g\n",
              "1                     CCs Nacho Cheese    175g\n",
              "2       Smiths Crinkle Cut  Chips Chicken 170g\n",
              "3       Smiths Chip Thinly  S/Cream&Onion 175g\n",
              "4     Kettle Tortilla ChpsHny&Jlpno Chili 150g\n",
              "5     Old El Paso Salsa   Dip Tomato Mild 300g\n",
              "6     Smiths Crinkle Chips Salt & Vinegar 330g\n",
              "7        Grain Waves         Sweet Chilli 210g\n",
              "8      Doritos Corn Chip Mexican Jalapeno 150g\n",
              "9        Grain Waves Sour    Cream&Chives 210G\n",
              "10    Smiths Crinkle Chips Salt & Vinegar 330g\n",
              "11       Kettle Sensations   Siracha Lime 150g\n",
              "12                    Twisties Cheese     270g\n",
              "13            WW Crinkle Cut      Chicken 175g\n",
              "14              Thins Chips Light&  Tangy 175g\n",
              "15                           CCs Original 175g\n",
              "16                           Burger Rings 220g\n",
              "17      NCC Sour Cream &    Garden Chives 175g\n",
              "18     Doritos Corn Chip Southern Chicken 150g\n",
              "19                    Cheezels Cheese Box 125g\n",
              "Name: PROD_NAME, dtype: object"
            ]
          },
          "metadata": {},
          "execution_count": 14
        }
      ]
    },
    {
      "cell_type": "markdown",
      "metadata": {
        "id": "QHE0H6uEGUEQ"
      },
      "source": [
        "**Which features contain blank, null or empty values?**"
      ]
    },
    {
      "cell_type": "markdown",
      "metadata": {
        "id": "_rnkCwnj3zzn"
      },
      "source": [
        "There're no missing values in both transaction and customer datasets."
      ]
    },
    {
      "cell_type": "code",
      "metadata": {
        "colab": {
          "base_uri": "https://localhost:8080/"
        },
        "id": "uZ65Wrs6GZLp",
        "outputId": "cd05de28-65e5-4d87-c594-7b418625f41f"
      },
      "source": [
        "# Check for nulls for the transaction dataset\n",
        "null_check_transaction = transaction.isnull().sum()\n",
        "null_check_transaction"
      ],
      "execution_count": null,
      "outputs": [
        {
          "output_type": "execute_result",
          "data": {
            "text/plain": [
              "DATE              0\n",
              "STORE_NBR         0\n",
              "LYLTY_CARD_NBR    0\n",
              "TXN_ID            0\n",
              "PROD_NBR          0\n",
              "PROD_NAME         0\n",
              "PROD_QTY          0\n",
              "TOT_SALES         0\n",
              "dtype: int64"
            ]
          },
          "metadata": {},
          "execution_count": 15
        }
      ]
    },
    {
      "cell_type": "code",
      "metadata": {
        "colab": {
          "base_uri": "https://localhost:8080/"
        },
        "id": "Ne8Fzt2SGkYv",
        "outputId": "7b968c61-dadb-433f-8e94-fba431b64574"
      },
      "source": [
        "# Check for nulls for the customer dataset\n",
        "null_check_customer = customer.isnull().sum()\n",
        "null_check_customer"
      ],
      "execution_count": null,
      "outputs": [
        {
          "output_type": "execute_result",
          "data": {
            "text/plain": [
              "LYLTY_CARD_NBR      0\n",
              "LIFESTAGE           0\n",
              "PREMIUM_CUSTOMER    0\n",
              "dtype: int64"
            ]
          },
          "metadata": {},
          "execution_count": 16
        }
      ]
    },
    {
      "cell_type": "markdown",
      "metadata": {
        "id": "o1g18qWw3ZBN"
      },
      "source": [
        "However, there's only 364 unique dates which indicates a missing date. "
      ]
    },
    {
      "cell_type": "code",
      "metadata": {
        "colab": {
          "base_uri": "https://localhost:8080/"
        },
        "id": "qEfqN95L3C7K",
        "outputId": "b05d817f-249f-495c-dadf-fa156b671a00"
      },
      "source": [
        "# Check the number of transaction by data\n",
        "transaction['DATE'].nunique()"
      ],
      "execution_count": null,
      "outputs": [
        {
          "output_type": "execute_result",
          "data": {
            "text/plain": [
              "364"
            ]
          },
          "metadata": {},
          "execution_count": 17
        }
      ]
    },
    {
      "cell_type": "markdown",
      "metadata": {
        "id": "oH2lynj1HA3K"
      },
      "source": [
        "# DECISIONS BASED ON DATA ANALYSIS"
      ]
    },
    {
      "cell_type": "markdown",
      "metadata": {
        "id": "_MWBS5iiHFJ5"
      },
      "source": [
        "We arrive at following decisions based on data analysis so far. "
      ]
    },
    {
      "cell_type": "markdown",
      "metadata": {
        "id": "yVMBY59MsMej"
      },
      "source": [
        "**Correcting**\n",
        "\n",
        "We want to remain only products in chips in the transaction dataset."
      ]
    },
    {
      "cell_type": "markdown",
      "metadata": {
        "id": "IJOWs0E_HV-h"
      },
      "source": [
        "**Creating**\n",
        "1. We want to engineer the PROD_NAME feature to extract packet sizes;\n",
        "2. We want to engineer the PROD_NAME feature to extract brand names."
      ]
    },
    {
      "cell_type": "markdown",
      "metadata": {
        "id": "gB0Q1I8XHwIZ"
      },
      "source": [
        "**Converting**\n",
        "\n",
        "We want to convert the format of DATE into a human readable format."
      ]
    },
    {
      "cell_type": "markdown",
      "metadata": {
        "id": "kNGcMhQMIRiq"
      },
      "source": [
        "**Correlating**\n",
        "\n",
        "We want to know how well each feature correlates with TOT_SALES, especially LIFESTAGE and PREMIUM_CUSTOMER features."
      ]
    },
    {
      "cell_type": "markdown",
      "metadata": {
        "id": "TkdhO_PnIpTu"
      },
      "source": [
        "# WRANGLE DATA"
      ]
    },
    {
      "cell_type": "markdown",
      "metadata": {
        "id": "mezDbTamIzAQ"
      },
      "source": [
        "So far we did not change a single feature or value to arrive at these. Let's now execute our decisions\n",
        "\n"
      ]
    },
    {
      "cell_type": "markdown",
      "metadata": {
        "id": "2dZ83UonLSlN"
      },
      "source": [
        "### Correcting by dropping the irrelavant observations"
      ]
    },
    {
      "cell_type": "markdown",
      "metadata": {
        "id": "lYFssf2sLeCA"
      },
      "source": [
        "We are only interested in the chips category, so let's remove salsa products in the transaction dataset."
      ]
    },
    {
      "cell_type": "code",
      "metadata": {
        "colab": {
          "base_uri": "https://localhost:8080/"
        },
        "id": "njcjNMeLQXyX",
        "outputId": "2fefbc10-1bc1-4140-ed55-30f1d21f3c75"
      },
      "source": [
        "transaction.shape"
      ],
      "execution_count": 11,
      "outputs": [
        {
          "output_type": "execute_result",
          "data": {
            "text/plain": [
              "(264836, 8)"
            ]
          },
          "metadata": {},
          "execution_count": 11
        }
      ]
    },
    {
      "cell_type": "code",
      "metadata": {
        "colab": {
          "base_uri": "https://localhost:8080/",
          "height": 49
        },
        "id": "jR0wKrDNQJZy",
        "outputId": "50840a8f-1bf7-4c1e-8353-90d8298fa3fa"
      },
      "source": [
        "transaction = transaction.drop(transaction[transaction['PROD_NAME'].str.contains('Salsa')].index)\n",
        "transaction[transaction['PROD_NAME'].str.contains('Salsa')]"
      ],
      "execution_count": 13,
      "outputs": [
        {
          "output_type": "execute_result",
          "data": {
            "text/html": [
              "<div>\n",
              "<style scoped>\n",
              "    .dataframe tbody tr th:only-of-type {\n",
              "        vertical-align: middle;\n",
              "    }\n",
              "\n",
              "    .dataframe tbody tr th {\n",
              "        vertical-align: top;\n",
              "    }\n",
              "\n",
              "    .dataframe thead th {\n",
              "        text-align: right;\n",
              "    }\n",
              "</style>\n",
              "<table border=\"1\" class=\"dataframe\">\n",
              "  <thead>\n",
              "    <tr style=\"text-align: right;\">\n",
              "      <th></th>\n",
              "      <th>DATE</th>\n",
              "      <th>STORE_NBR</th>\n",
              "      <th>LYLTY_CARD_NBR</th>\n",
              "      <th>TXN_ID</th>\n",
              "      <th>PROD_NBR</th>\n",
              "      <th>PROD_NAME</th>\n",
              "      <th>PROD_QTY</th>\n",
              "      <th>TOT_SALES</th>\n",
              "    </tr>\n",
              "  </thead>\n",
              "  <tbody>\n",
              "  </tbody>\n",
              "</table>\n",
              "</div>"
            ],
            "text/plain": [
              "Empty DataFrame\n",
              "Columns: [DATE, STORE_NBR, LYLTY_CARD_NBR, TXN_ID, PROD_NBR, PROD_NAME, PROD_QTY, TOT_SALES]\n",
              "Index: []"
            ]
          },
          "metadata": {},
          "execution_count": 13
        }
      ]
    },
    {
      "cell_type": "code",
      "metadata": {
        "colab": {
          "base_uri": "https://localhost:8080/"
        },
        "id": "udiWptcTQT6p",
        "outputId": "e521fa02-4737-4214-b128-2dec86e29db6"
      },
      "source": [
        "transaction.shape"
      ],
      "execution_count": 15,
      "outputs": [
        {
          "output_type": "execute_result",
          "data": {
            "text/plain": [
              "(246742, 8)"
            ]
          },
          "metadata": {},
          "execution_count": 15
        }
      ]
    },
    {
      "cell_type": "markdown",
      "metadata": {
        "id": "5fApBbFFQ8U0"
      },
      "source": [
        "### Creating a new feature from the existing one"
      ]
    },
    {
      "cell_type": "markdown",
      "metadata": {
        "id": "85kk4sgLRAOD"
      },
      "source": [
        "In the following code, we extract PackSize feature using regular expressions. The RegEx pattern `\\d+` matches the first digit which ends with digits within PROD_NAME feature. "
      ]
    },
    {
      "cell_type": "code",
      "metadata": {
        "id": "o7-UG24y0cGO"
      },
      "source": [
        "productname = transaction['PROD_NAME'].tolist()\n",
        "packsize=[]\n",
        "for i in range(0,len(transaction)):\n",
        "  packsize.append(re.findall(r'\\d+',productname[i]))\n",
        "\n",
        "result = []\n",
        "for i in packsize:\n",
        "  result.append(int(i[0]))\n",
        "\n",
        "transaction['PackSize'] = result"
      ],
      "execution_count": 16,
      "outputs": []
    },
    {
      "cell_type": "code",
      "metadata": {
        "colab": {
          "base_uri": "https://localhost:8080/",
          "height": 396
        },
        "id": "8hOmU9hHrFNJ",
        "outputId": "e4b00c14-6987-4e48-cdf1-7b6baeb81079"
      },
      "source": [
        "sns.catplot(x='PackSize',kind='count', data=transaction,palette=\"Blues_d\").set(title=\"The Number of Each Pack Size of Chips\")\n",
        "plt.xticks(rotation=45)\n",
        "plt.show()"
      ],
      "execution_count": 17,
      "outputs": [
        {
          "output_type": "display_data",
          "data": {
            "image/png": "[encoded data removed]",
            "text/plain": [
              "<Figure size 360x360 with 1 Axes>"
            ]
          },
          "metadata": {
            "needs_background": "light"
          }
        }
      ]
    },
    {
      "cell_type": "markdown",
      "metadata": {
        "id": "d2cxt_kSsd-1"
      },
      "source": [
        "### Creating a new feature from the existing feature"
      ]
    },
    {
      "cell_type": "markdown",
      "metadata": {
        "id": "A7m14vCfsipa"
      },
      "source": [
        "In the following code, we extract Brand feature using split() function. "
      ]
    },
    {
      "cell_type": "code",
      "metadata": {
        "id": "YW1_GyQxtHQ2"
      },
      "source": [
        "brand=[]\n",
        "for i in range(0,len(transaction)):\n",
        "  brand.append(productname[i].split()[0])\n",
        "\n",
        "transaction['Brand'] = brand"
      ],
      "execution_count": 18,
      "outputs": []
    },
    {
      "cell_type": "code",
      "metadata": {
        "colab": {
          "base_uri": "https://localhost:8080/",
          "height": 433
        },
        "id": "Go74aBO_udIW",
        "outputId": "016614e9-354c-4299-9aca-fc5a458d82de"
      },
      "source": [
        "sns.catplot(x='Brand',kind='count', data=transaction,palette=\"Blues_d\").set(title=\"The Number of Different Brands of Chips\")\n",
        "plt.xticks(rotation=90)\n",
        "plt.show()"
      ],
      "execution_count": 19,
      "outputs": [
        {
          "output_type": "display_data",
          "data": {
            "image/png": "[encoded data removed]",
            "text/plain": [
              "<Figure size 360x360 with 1 Axes>"
            ]
          },
          "metadata": {
            "needs_background": "light"
          }
        }
      ]
    },
    {
      "cell_type": "markdown",
      "metadata": {
        "id": "CBrnz4wdutGc"
      },
      "source": [
        "Some of the brand names look like they are of the same brands - such as RED and RRD, which are both Red Rock Deli chips. Let's combine them together."
      ]
    },
    {
      "cell_type": "code",
      "metadata": {
        "id": "o0LMO6y2u5IE"
      },
      "source": [
        "transaction['Brand']=transaction['Brand'].replace('RED','RRD')\n",
        "transaction['Brand']=transaction['Brand'].replace('Red','RRD')\n",
        "transaction['Brand']=transaction['Brand'].replace('Natural','NNC')\n",
        "transaction['Brand']=transaction['Brand'].replace('Dorito','Doritos')\n",
        "transaction['Brand']=transaction['Brand'].replace('Infuzions','Infzns')\n",
        "transaction['Brand']=transaction['Brand'].replace('Smith','Smiths')\n",
        "transaction['Brand']=transaction['Brand'].replace('Sunbites','Snbts')\n",
        "transaction['Brand']=transaction['Brand'].replace('Woolworths','WW')\n",
        "transaction['Brand']=transaction['Brand'].replace('Grain','GrnWves')"
      ],
      "execution_count": 20,
      "outputs": []
    },
    {
      "cell_type": "code",
      "metadata": {
        "colab": {
          "base_uri": "https://localhost:8080/",
          "height": 421
        },
        "id": "1qxr1Rqpvs5C",
        "outputId": "7c0d9f9c-24ac-4d07-bd5a-1581b163ce7d"
      },
      "source": [
        "sns.catplot(x='Brand',kind='count', data=transaction,palette=\"Blues_d\").set(title=\"The Number of Different Brands of Chips after Combining Names\")\n",
        "plt.xticks(rotation=90)\n",
        "plt.show()"
      ],
      "execution_count": 21,
      "outputs": [
        {
          "output_type": "display_data",
          "data": {
            "image/png": "[encoded data removed]",
            "text/plain": [
              "<Figure size 360x360 with 1 Axes>"
            ]
          },
          "metadata": {
            "needs_background": "light"
          }
        }
      ]
    },
    {
      "cell_type": "markdown",
      "metadata": {
        "id": "VxYBTXee7BFo"
      },
      "source": [
        "### Converting a Excel date feature"
      ]
    },
    {
      "cell_type": "markdown",
      "metadata": {
        "id": "B276Op5n3umC"
      },
      "source": [
        "Let's convert the Excel date feature into human readable format and then find the missing date in the transaction year."
      ]
    },
    {
      "cell_type": "code",
      "metadata": {
        "id": "GBZlsl_4Azlk"
      },
      "source": [
        "# Convert the DATE feature from Excel date format to human readable format\n",
        "dates = []\n",
        "for date in transaction['DATE']:\n",
        "  dates.append(xlrd.xldate_as_datetime(date,0).date().isoformat())\n",
        "\n",
        "transaction['DATE'] = dates"
      ],
      "execution_count": 22,
      "outputs": []
    },
    {
      "cell_type": "markdown",
      "metadata": {
        "id": "kfoP64sU5SFb"
      },
      "source": [
        "We can see that the increase in sales occurs in the lead-up to Christmas and that there were zero sales on Christmas day itself. This is due to shops being closed on Christmas day."
      ]
    },
    {
      "cell_type": "code",
      "metadata": {
        "colab": {
          "base_uri": "https://localhost:8080/"
        },
        "id": "j_rdh_KDv-8c",
        "outputId": "bdffa0dd-92bd-46bc-a188-58d7c81f9855"
      },
      "source": [
        "# Check the missing date\n",
        "df = transaction[['DATE','TOT_SALES']]\n",
        "df = df.set_index('DATE')\n",
        "df.index = pd.to_datetime(df.index)\n",
        "pd.date_range(start='2018-07-01',end='2019-06-30').difference(df.index)"
      ],
      "execution_count": 23,
      "outputs": [
        {
          "output_type": "execute_result",
          "data": {
            "text/plain": [
              "DatetimeIndex(['2018-12-25'], dtype='datetime64[ns]', freq=None)"
            ]
          },
          "metadata": {},
          "execution_count": 23
        }
      ]
    },
    {
      "cell_type": "code",
      "metadata": {
        "id": "hgRP8SHO1ACk"
      },
      "source": [
        "# Create a new data frame which contains the counts for each date\n",
        "df_date1 = pd.DataFrame(pd.date_range(start='2018-07-01',end='2019-06-30'),columns=['Date1'])\n",
        "df_date2 = transaction['DATE'].groupby(transaction['DATE']).count().to_frame()\n",
        "df_date2['Date2'] = pd.to_datetime(df_date2.index)\n",
        "df_date2 = df_date2.rename(columns={'DATE':'Count'})\n",
        "df_date = df_date1.merge(df_date2,how='left',left_on='Date1',right_on='Date2')"
      ],
      "execution_count": 24,
      "outputs": []
    },
    {
      "cell_type": "code",
      "metadata": {
        "colab": {
          "base_uri": "https://localhost:8080/",
          "height": 241
        },
        "id": "YoY7lQc833MR",
        "outputId": "148ab256-460c-444d-aa36-90ec961abb02"
      },
      "source": [
        "plt.figure(figsize=(10,3))\n",
        "plt.plot(df_date['Date1'],df_date['Count'])\n",
        "plt.title('Number of Transactions over Time')\n",
        "plt.xlabel('Date')\n",
        "plt.ylabel('Number of Transactions')\n",
        "plt.show()"
      ],
      "execution_count": 25,
      "outputs": [
        {
          "output_type": "display_data",
          "data": {
            "image/png": "[encoded data removed]",
            "text/plain": [
              "<Figure size 720x216 with 1 Axes>"
            ]
          },
          "metadata": {
            "needs_background": "light"
          }
        }
      ]
    },
    {
      "cell_type": "markdown",
      "metadata": {
        "id": "IPvX5ia8wbQT"
      },
      "source": [
        "# ANALYZE BY VISUALIZING DATA"
      ]
    },
    {
      "cell_type": "markdown",
      "metadata": {
        "id": "vMiB27x8wo10"
      },
      "source": [
        "Now we can continue confirming some of our assumptions using visualizatoin for analyzing the data."
      ]
    },
    {
      "cell_type": "code",
      "metadata": {
        "id": "kB7o97XCEjy6"
      },
      "source": [
        "# Create a new dataframe, combine, to contain all information in both datasets\n",
        "combine = transaction.merge(customer,how='left',left_on='LYLTY_CARD_NBR',right_on='LYLTY_CARD_NBR')"
      ],
      "execution_count": 26,
      "outputs": []
    },
    {
      "cell_type": "code",
      "metadata": {
        "colab": {
          "base_uri": "https://localhost:8080/"
        },
        "id": "Aiu9asbOE5wJ",
        "outputId": "3f50c442-ffea-40f7-f8a6-661ba70c2a25"
      },
      "source": [
        "combine.info()"
      ],
      "execution_count": 27,
      "outputs": [
        {
          "output_type": "stream",
          "name": "stdout",
          "text": [
            "<class 'pandas.core.frame.DataFrame'>\n",
            "Int64Index: 246742 entries, 0 to 246741\n",
            "Data columns (total 12 columns):\n",
            " #   Column            Non-Null Count   Dtype  \n",
            "---  ------            --------------   -----  \n",
            " 0   DATE              246742 non-null  object \n",
            " 1   STORE_NBR         246742 non-null  int64  \n",
            " 2   LYLTY_CARD_NBR    246742 non-null  int64  \n",
            " 3   TXN_ID            246742 non-null  int64  \n",
            " 4   PROD_NBR          246742 non-null  int64  \n",
            " 5   PROD_NAME         246742 non-null  object \n",
            " 6   PROD_QTY          246742 non-null  int64  \n",
            " 7   TOT_SALES         246742 non-null  float64\n",
            " 8   PackSize          246742 non-null  int64  \n",
            " 9   Brand             246742 non-null  object \n",
            " 10  LIFESTAGE         246742 non-null  object \n",
            " 11  PREMIUM_CUSTOMER  246742 non-null  object \n",
            "dtypes: float64(1), int64(6), object(5)\n",
            "memory usage: 24.5+ MB\n"
          ]
        }
      ]
    },
    {
      "cell_type": "markdown",
      "metadata": {
        "id": "F_CZpqg3wxfY"
      },
      "source": [
        "**Correlating categorical features**"
      ]
    },
    {
      "cell_type": "markdown",
      "metadata": {
        "id": "M3hcfu63w4TM"
      },
      "source": [
        "Let's start by understanding correlations between categorical features and our goal (TOT_SALES)."
      ]
    },
    {
      "cell_type": "markdown",
      "metadata": {
        "id": "_9d5mXPCJetp"
      },
      "source": [
        "Sales are coming mainly from budget older family, mainstream young singles and couples, and mainsteam retirees.\n"
      ]
    },
    {
      "cell_type": "code",
      "metadata": {
        "colab": {
          "base_uri": "https://localhost:8080/",
          "height": 496
        },
        "id": "Myhk3DTLF0cS",
        "outputId": "44d1b32a-ea36-4eb8-82ea-55fb82449f8a"
      },
      "source": [
        "df_pls = combine[['TOT_SALES','PREMIUM_CUSTOMER','LIFESTAGE']]\n",
        "df_pls_grouped = df_pls.groupby(['PREMIUM_CUSTOMER','LIFESTAGE']).agg({'TOT_SALES':'sum'}).sort_values('TOT_SALES',ascending=False)\n",
        "df_pls_grouped.plot(kind='bar')"
      ],
      "execution_count": 28,
      "outputs": [
        {
          "output_type": "execute_result",
          "data": {
            "text/plain": [
              "<matplotlib.axes._subplots.AxesSubplot at 0x7f5db1d7ab50>"
            ]
          },
          "metadata": {},
          "execution_count": 28
        },
        {
          "output_type": "display_data",
          "data": {
            "image/png": "[encoded data removed]",
            "text/plain": [
              "<Figure size 432x288 with 1 Axes>"
            ]
          },
          "metadata": {
            "needs_background": "light"
          }
        }
      ]
    },
    {
      "cell_type": "markdown",
      "metadata": {
        "id": "SsjHBYg8QZlI"
      },
      "source": [
        "There are more mainstream young singles and couples and mainstream retirees who buy chips. Higher sales may also be driven by more units of chips being bought per customer. Let's have a look at this next."
      ]
    },
    {
      "cell_type": "code",
      "metadata": {
        "colab": {
          "base_uri": "https://localhost:8080/",
          "height": 496
        },
        "id": "oTBuAc7_OS4i",
        "outputId": "bad9449a-2f80-49a0-b6a8-0701281e61a9"
      },
      "source": [
        "df_plcs = combine[['LYLTY_CARD_NBR','PREMIUM_CUSTOMER','LIFESTAGE']]\n",
        "df_plcs_grouped = df_plcs.groupby(['PREMIUM_CUSTOMER','LIFESTAGE']).agg({'LYLTY_CARD_NBR':'nunique'}).sort_values('LYLTY_CARD_NBR',ascending=False)\n",
        "df_plcs_grouped.plot(kind='bar')"
      ],
      "execution_count": 29,
      "outputs": [
        {
          "output_type": "execute_result",
          "data": {
            "text/plain": [
              "<matplotlib.axes._subplots.AxesSubplot at 0x7f5db1c7b690>"
            ]
          },
          "metadata": {},
          "execution_count": 29
        },
        {
          "output_type": "display_data",
          "data": {
            "image/png": "[encoded data removed]",
            "text/plain": [
              "<Figure size 432x288 with 1 Axes>"
            ]
          },
          "metadata": {
            "needs_background": "light"
          }
        }
      ]
    },
    {
      "cell_type": "markdown",
      "metadata": {
        "id": "6zw5QcbjUXcR"
      },
      "source": [
        "Older families and young families in general buy more chips per customer. "
      ]
    },
    {
      "cell_type": "code",
      "metadata": {
        "colab": {
          "base_uri": "https://localhost:8080/",
          "height": 496
        },
        "id": "WFrX6GoJSgws",
        "outputId": "68002d6e-8cf7-4665-bbc0-ff7711b85b1c"
      },
      "source": [
        "df_plc_grouped = df_pls_grouped.merge(df_plcs_grouped,how='left',left_index=True,right_index=True)\n",
        "df_plc_grouped['AVG_NUM_UNIT_PER_CUSTOMER']=df_plc_grouped['TOT_SALES']/df_plc_grouped['LYLTY_CARD_NBR'] \n",
        "df_plc_grouped = df_plc_grouped.drop(['TOT_SALES','LYLTY_CARD_NBR'],axis=1).sort_values('AVG_NUM_UNIT_PER_CUSTOMER',ascending=False)\n",
        "df_plc_grouped.plot(kind='bar')"
      ],
      "execution_count": 30,
      "outputs": [
        {
          "output_type": "execute_result",
          "data": {
            "text/plain": [
              "<matplotlib.axes._subplots.AxesSubplot at 0x7f5db192efd0>"
            ]
          },
          "metadata": {},
          "execution_count": 30
        },
        {
          "output_type": "display_data",
          "data": {
            "image/png": "[encoded data removed]",
            "text/plain": [
              "<Figure size 432x288 with 1 Axes>"
            ]
          },
          "metadata": {
            "needs_background": "light"
          }
        }
      ]
    },
    {
      "cell_type": "markdown",
      "metadata": {
        "id": "6Agj6U9AVGKd"
      },
      "source": [
        "Let's also investigate the average price per unit chips bought for each customer segment as this is also a driver of total sales."
      ]
    },
    {
      "cell_type": "markdown",
      "metadata": {
        "id": "hDgDxbTHy7KU"
      },
      "source": [
        "Mainstream young and midage singles and couples are more willing to pay more per packet of chips compared to their budget and premium counterparts. This may be due to premium shoppers being more likely to buy healthy snacks and when they buy chips, this is mainly for entertainment purposes rather than their own consumption.\n",
        "\n",
        "This is also supported by there being fewer premium young and midage singles and couples buying chips compared to their mainstream counterparts."
      ]
    },
    {
      "cell_type": "code",
      "metadata": {
        "colab": {
          "base_uri": "https://localhost:8080/",
          "height": 496
        },
        "id": "SpjUFEsWwZyK",
        "outputId": "63ebefcb-4101-4af8-c657-54b6ea646473"
      },
      "source": [
        "df_avg_price_per_unit = combine[['PREMIUM_CUSTOMER','LIFESTAGE','TOT_SALES','PROD_QTY']]\n",
        "df_avg_price_per_unit['AVG_PRICE_PER_UNIT']=df_avg_price_per_unit['TOT_SALES']/df_avg_price_per_unit['PROD_QTY'] \n",
        "df_avg_price_per_unit_grouped=df_avg_price_per_unit.groupby(['LIFESTAGE','PREMIUM_CUSTOMER']).agg({'AVG_PRICE_PER_UNIT':'mean'}).sort_values('AVG_PRICE_PER_UNIT',ascending=False)\n",
        "df_avg_price_per_unit_grouped.plot(kind='bar')"
      ],
      "execution_count": 31,
      "outputs": [
        {
          "output_type": "execute_result",
          "data": {
            "text/plain": [
              "<matplotlib.axes._subplots.AxesSubplot at 0x7f5db10b8d90>"
            ]
          },
          "metadata": {},
          "execution_count": 31
        },
        {
          "output_type": "display_data",
          "data": {
            "image/png": "[encoded data removed]",
            "text/plain": [
              "<Figure size 432x288 with 1 Axes>"
            ]
          },
          "metadata": {
            "needs_background": "light"
          }
        }
      ]
    },
    {
      "cell_type": "markdown",
      "metadata": {
        "id": "vnFyRhRvz1oe"
      },
      "source": [
        "As the difference in average price per unit isn't large, we can check if this difference is statistically different."
      ]
    },
    {
      "cell_type": "code",
      "metadata": {
        "colab": {
          "base_uri": "https://localhost:8080/"
        },
        "id": "kgh_-sXa1IZS",
        "outputId": "327ed575-9bed-4486-a960-e3950ea72695"
      },
      "source": [
        "# Perform an independent t-test between mainstream vs premium and budget young and midage singles and couples\n",
        "test1 = df_avg_price_per_unit[(df_avg_price_per_unit['LIFESTAGE'].isin(['YOUNG SINGLES/COUPLES','MIDAGE SINGLES/COUPLES'])) & (df_avg_price_per_unit['PREMIUM_CUSTOMER']=='Mainstream')]\n",
        "test2 = df_avg_price_per_unit[(df_avg_price_per_unit['LIFESTAGE'].isin(['YOUNG SINGLES/COUPLES','MIDAGE SINGLES/COUPLES'])) & (df_avg_price_per_unit['PREMIUM_CUSTOMER']!='Mainstream')]\n",
        "stats.ttest_ind(test1['AVG_PRICE_PER_UNIT'],test2['AVG_PRICE_PER_UNIT'])"
      ],
      "execution_count": 32,
      "outputs": [
        {
          "output_type": "execute_result",
          "data": {
            "text/plain": [
              "Ttest_indResult(statistic=37.83196107667815, pvalue=2.235645611549355e-309)"
            ]
          },
          "metadata": {},
          "execution_count": 32
        }
      ]
    },
    {
      "cell_type": "markdown",
      "metadata": {
        "id": "Om1a11w724vg"
      },
      "source": [
        "The t-test results in a p-value closed to 0, i.e. the unit price for mainstream, young and midage singles and couples ARE significantly higher than that of budget or premium, young and midage singles and couples."
      ]
    },
    {
      "cell_type": "markdown",
      "metadata": {
        "id": "dPE4-t4y36ek"
      },
      "source": [
        "**More Findings in Target Customer**"
      ]
    },
    {
      "cell_type": "markdown",
      "metadata": {
        "id": "ee6MMxlM4AQF"
      },
      "source": [
        "We have found quite a few interesting insights that we can dive deep into. We might want to target customer segment that contribute the most to sales to retain the more further increase sales. Let's look at Mainstream, young singles and couples and find out if they tend to buy a particular brand of chips."
      ]
    },
    {
      "cell_type": "code",
      "metadata": {
        "id": "b26egEGw4fNM"
      },
      "source": [
        "segment1 = combine[(combine['LIFESTAGE'] =='YOUNG SINGLES/COUPLES') & (combine['PREMIUM_CUSTOMER']=='Mainstream')]\n",
        "other = combine[(combine['LIFESTAGE'] !='YOUNG SINGLES/COUPLES') & (combine['PREMIUM_CUSTOMER']!='Mainstream')]"
      ],
      "execution_count": 33,
      "outputs": []
    },
    {
      "cell_type": "code",
      "metadata": {
        "colab": {
          "base_uri": "https://localhost:8080/",
          "height": 333
        },
        "id": "dGtPAhTl5t15",
        "outputId": "4407e9ec-899d-44e9-bea5-1c47a57efbe2"
      },
      "source": [
        "# Brand affinity compared to the rest of the population\n",
        "quantity_segment1=segment1.agg({'PROD_QTY':'sum'})\n",
        "quantity_other=other.agg({'PROD_QTY':'sum'})\n",
        "quantity_segment1_by_brand = segment1.groupby(['Brand']).agg({'PROD_QTY':'sum'})/quantity_segment1\n",
        "quantity_other_by_brand = other.groupby(['Brand']).agg({'PROD_QTY':'sum'})/quantity_other\n",
        "brand_prop=quantity_segment1_by_brand.merge(quantity_other_by_brand,how='left',left_index=True,right_index=True)\n",
        "brand_prop = brand_prop.rename(columns={'PROD_QTY_x':'targetSegment','PROD_QTY_y':'other'})\n",
        "brand_prop['affinityBrand']=brand_prop['targetSegment']/brand_prop['other']\n",
        "brand_prop = brand_prop.sort_values('affinityBrand',ascending=False)\n",
        "brand_prop['affinityBrand'].plot(kind='bar')"
      ],
      "execution_count": 35,
      "outputs": [
        {
          "output_type": "execute_result",
          "data": {
            "text/plain": [
              "<matplotlib.axes._subplots.AxesSubplot at 0x7f5db0f940d0>"
            ]
          },
          "metadata": {},
          "execution_count": 35
        },
        {
          "output_type": "display_data",
          "data": {
            "image/png": "[encoded data removed]",
            "text/plain": [
              "<Figure size 432x288 with 1 Axes>"
            ]
          },
          "metadata": {
            "needs_background": "light"
          }
        }
      ]
    },
    {
      "cell_type": "markdown",
      "metadata": {
        "id": "wXe-q3xL8dDZ"
      },
      "source": [
        "We can see that:\n",
        "\n",
        "* Mainstream young singles and couples are 23% more likely to purchase Tyrrells chips compared to the rest of the population;\n",
        "* Mainstream young singles and couples are 56% less likely to purchase Burger Ringers compared to the rest of the population.\n",
        "\n"
      ]
    },
    {
      "cell_type": "code",
      "metadata": {
        "colab": {
          "base_uri": "https://localhost:8080/"
        },
        "id": "Z0fyachU6yPb",
        "outputId": "f77b3efb-71f9-4bf1-8f5f-312b2db17834"
      },
      "source": [
        "print(brand_prop.head(1))\n",
        "print(brand_prop.tail(1))"
      ],
      "execution_count": null,
      "outputs": [
        {
          "output_type": "stream",
          "name": "stdout",
          "text": [
            "          targetSegment     other  affinityBrand\n",
            "Brand                                           \n",
            "Tyrrells       0.031553  0.025676       1.228888\n",
            "        targetSegment     other  affinityBrand\n",
            "Brand                                         \n",
            "Burger       0.002926  0.006528       0.448254\n"
          ]
        }
      ]
    },
    {
      "cell_type": "markdown",
      "metadata": {
        "id": "7_34pynm9m_R"
      },
      "source": [
        "At last, let's find out whether our target segment tends to buy larger packs of chips."
      ]
    },
    {
      "cell_type": "code",
      "metadata": {
        "colab": {
          "base_uri": "https://localhost:8080/",
          "height": 306
        },
        "id": "9mTf3zuP9ty_",
        "outputId": "6685ac4d-1ce0-4bdc-d040-d4b375850380"
      },
      "source": [
        "# Preferred pack size compared to the rest of the population\n",
        "quantity_segment1_by_size = segment1.groupby(['PackSize']).agg({'PROD_QTY':'sum'})/quantity_segment1\n",
        "quantity_other_by_size = other.groupby(['PackSize']).agg({'PROD_QTY':'sum'})/quantity_other\n",
        "size_prop=quantity_segment1_by_size.merge(quantity_other_by_size,how='left',left_index=True,right_index=True)\n",
        "size_prop = size_prop.rename(columns={'PROD_QTY_x':'targetSegment','PROD_QTY_y':'other'})\n",
        "size_prop['affinitySize']=size_prop['targetSegment']/size_prop['other']\n",
        "size_prop = size_prop.sort_values('affinitySize',ascending=False)\n",
        "size_prop['affinitySize'].plot(kind='bar')"
      ],
      "execution_count": 36,
      "outputs": [
        {
          "output_type": "execute_result",
          "data": {
            "text/plain": [
              "<matplotlib.axes._subplots.AxesSubplot at 0x7f5db0e71ad0>"
            ]
          },
          "metadata": {},
          "execution_count": 36
        },
        {
          "output_type": "display_data",
          "data": {
            "image/png": "[encoded data removed]",
            "text/plain": [
              "<Figure size 432x288 with 1 Axes>"
            ]
          },
          "metadata": {
            "needs_background": "light"
          }
        }
      ]
    },
    {
      "cell_type": "markdown",
      "metadata": {
        "id": "nSB4b8T__GHP"
      },
      "source": [
        "It looks like Mainstream young singles and couples are 27% more likely to purchase a 270g pack of chips compared to the rest of the population."
      ]
    },
    {
      "cell_type": "code",
      "metadata": {
        "colab": {
          "base_uri": "https://localhost:8080/"
        },
        "id": "KeXJ_mkb_awh",
        "outputId": "6e8797d3-0e66-4d60-f897-ad333c5049b6"
      },
      "source": [
        "print(size_prop.head(1))"
      ],
      "execution_count": 37,
      "outputs": [
        {
          "output_type": "stream",
          "name": "stdout",
          "text": [
            "          targetSegment     other  affinitySize\n",
            "PackSize                                       \n",
            "270            0.031829  0.025032      1.271535\n"
          ]
        }
      ]
    },
    {
      "cell_type": "markdown",
      "metadata": {
        "id": "Wb_Ll2Jp_kqS"
      },
      "source": [
        "Let's check what brands sell this pack size."
      ]
    },
    {
      "cell_type": "code",
      "metadata": {
        "colab": {
          "base_uri": "https://localhost:8080/"
        },
        "id": "kmPK-i4f_opF",
        "outputId": "e20ddf36-7e19-4c37-96a2-a6efefd69983"
      },
      "source": [
        "combine[combine['PackSize']==270]['PROD_NAME'].unique()"
      ],
      "execution_count": 38,
      "outputs": [
        {
          "output_type": "execute_result",
          "data": {
            "text/plain": [
              "array(['Twisties Cheese     270g', 'Twisties Chicken270g'], dtype=object)"
            ]
          },
          "metadata": {},
          "execution_count": 38
        }
      ]
    },
    {
      "cell_type": "markdown",
      "metadata": {
        "id": "pnrV-hq5Anld"
      },
      "source": [
        "Twisties are the only brand offering 270g packs and so this may be reflecting a higher likelihood of purchasing Twisties for the target customers."
      ]
    }
  ]
}